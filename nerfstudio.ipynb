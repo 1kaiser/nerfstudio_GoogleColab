{
  "nbformat": 4,
  "nbformat_minor": 0,
  "metadata": {
    "colab": {
      "provenance": [],
      "include_colab_link": true
    },
    "kernelspec": {
      "name": "python3",
      "display_name": "Python 3"
    },
    "language_info": {
      "name": "python"
    },
    "accelerator": "GPU"
  },
  "cells": [
    {
      "cell_type": "markdown",
      "metadata": {
        "id": "view-in-github",
        "colab_type": "text"
      },
      "source": [
        "<a href=\"https://colab.research.google.com/github/1kaiser/nerfstudio_GoogleColab/blob/main/nerfstudio.ipynb\" target=\"_parent\"><img src=\"https://colab.research.google.com/assets/colab-badge.svg\" alt=\"Open In Colab\"/></a>"
      ]
    },
    {
      "cell_type": "code",
      "source": [
        "from google.colab import drive\n",
        "drive.mount('/content/drive')"
      ],
      "metadata": {
        "colab": {
          "base_uri": "https://localhost:8080/"
        },
        "id": "Intsbk_Kmul8",
        "outputId": "dea8653e-cf01-4ff2-b85f-7171efeaea67"
      },
      "execution_count": 10,
      "outputs": [
        {
          "output_type": "stream",
          "name": "stdout",
          "text": [
            "Mounted at /content/drive\n"
          ]
        }
      ]
    },
    {
      "cell_type": "code",
      "source": [
        "%cd /content/drive/MyDrive/OUT/data/machine_learning_test_dataset/NERFSTUDIO"
      ],
      "metadata": {
        "id": "Wh56uPtYmz3s"
      },
      "execution_count": null,
      "outputs": []
    },
    {
      "cell_type": "code",
      "source": [
        "#@title download your own video >>> \n",
        "enter_link = \"https://video-downloads.googleusercontent.com/AEpB0oqQ10fcyLdIh6njDVjiwsMMHQE8skUf81vyw5e2IxUe5EAZTHFwS_DDHd5n7rxhiElkOgSXyKCG4L7LkxAZU3LxAJcx6ASL_yJD96KchbrFk_0vqnBb-k7WABU-bQPy1n_pZWbuBqtfAs6HHKCjxSLPboGUGM4Mg5OT_wDlY0tGG5OIp1q8nPwckoXfNVm4UfxxIvn_OQDLcvjNeYeF8DWcuY0_3SLoS184yx7JgWwTo3pPmy_M7T3ZmazMxJQwF9aZ1SuWgQsd9PiFPyGYnarYs4KYeAbciIhZBc3q13tDt1BFT3v4_QMslpg0FZWIiMNBY6e9dqf55kMKOxvH0cELqqGAiipAk4ULiHBA7AhxgtyvQM4Fiww0wG7FH1yk3UeD2XKwhsnYzYXLrYtaskk8iVvLaU6JA3i16W59leaIagwt2TgNNVdcaSfKMC6QiYxS2JRlYZXAZwRKpubx7_k2R3GDhwQrgpX53Y1fIrgIbr3qTRQTylUlqGg0af0qJdVtuzmWqcAV8v9N4G_rXZ5u5sl2-b56VM64rKQ_3pZVev3mESpBDIowWZRvBKZdUR7M0g-yQI54opSl6U66pU1I75dsCuocFg29ewJI7sjcJ07BoC5lhXmDn6btIy7MHiaRQHkEmDBvFJeafAb1o2X5khoVpjMRF9TQU-60Lj2deew8oOArQvNX4s82gKcauvuAkEfc7mgN_JI7g9YUmqUAEeC8eDWbrWe9JwQcnTgNvbRlw_hBLAoxEu4IiKvrSiVYDiJNK_1671HH74la6LSb9nn7HFijYctXjjLcAxLdwM_LQTtZtTHTZtMDcZTGOlEaGmKnD5kh89y7lrqKOr4Kmt7ElcgsdEcelWwL2M0LDPs7pSCj_r-t-cSb_Jnih5W5J-FzbNx3ABRsZIRIPMJIhTqTPJPKcqEa2FmaylVmAzHWe9EKahe_BKSPvS84UXLayVStDTSIpWIfTTmDB2GoxHae_0EVd30Bf4JbdLhs_30UjH30vtAbYLoC0E6DMuONd6gq2eidZVm0eo7jqUCV68wDO81CoQ3lskpTuPK8FlAAuIuCCYX-JQAHWC5W61WWHUzPkYJeZjlPuSqrWpAIjNOEYCXi_TdD7jOpPv8JbRUZnbGET0RcPySSj_k4ugqjSsrf\" #@param {type:\"string\"}\n",
        "!wget {enter_link} -O c.mp4"
      ],
      "metadata": {
        "id": "v3LFxTc69CQP",
        "cellView": "form"
      },
      "execution_count": null,
      "outputs": []
    },
    {
      "cell_type": "code",
      "source": [
        "!python -m pip install -q condacolab\n",
        "import condacolab\n",
        "condacolab.install()"
      ],
      "metadata": {
        "id": "3tQC2V0J76i2"
      },
      "execution_count": null,
      "outputs": []
    },
    {
      "cell_type": "code",
      "execution_count": null,
      "metadata": {
        "id": "Zgkb5RBY7lUl"
      },
      "outputs": [],
      "source": [
        "!conda create --name nerfstudio -y python=3.11\n",
        "!conda activate nerfstudio\n",
        "!python -m pip install --upgrade pip"
      ]
    },
    {
      "cell_type": "code",
      "source": [
        "!python -m pip install torch==1.12.1+cu113 torchvision==0.13.1+cu113 -f https://download.pytorch.org/whl/torch_stable.html\n",
        "!python -m pip install git+https://github.com/NVlabs/tiny-cuda-nn/#subdirectory=bindings/torch\n",
        "!python -m pip install nerfstudio"
      ],
      "metadata": {
        "id": "zlo7Ps3m8VIW"
      },
      "execution_count": null,
      "outputs": []
    },
    {
      "cell_type": "code",
      "source": [
        "!mkdir -p /content/bbbb"
      ],
      "metadata": {
        "id": "O9q3Wu7H-_yR"
      },
      "execution_count": null,
      "outputs": []
    },
    {
      "cell_type": "code",
      "source": [
        "!conda install -c conda-forge colmap"
      ],
      "metadata": {
        "id": "Nk765YzB_8P1"
      },
      "execution_count": null,
      "outputs": []
    },
    {
      "cell_type": "code",
      "source": [
        "!ns-process-data video --data /content/c.mp4 --output-dir /content/bbbb "
      ],
      "metadata": {
        "id": "-g89ei-V82Py"
      },
      "execution_count": null,
      "outputs": []
    },
    {
      "cell_type": "code",
      "source": [
        "#@markdown <h1>Set up and Start Viewer</h1>\n",
        "\n",
        "%cd /content\n",
        "\n",
        "# Install localtunnel\n",
        "# We are using localtunnel https://github.com/localtunnel/localtunnel but ngrok could also be used\n",
        "!npm install -g localtunnel\n",
        "\n",
        "# Tunnel port 7007, the default for\n",
        "!rm url.txt 2> /dev/null\n",
        "get_ipython().system_raw('lt --port 7007 >> url.txt 2>&1 &')\n",
        "\n",
        "import time\n",
        "time.sleep(3) # the previous command needs time to write to url.txt\n",
        "\n",
        "\n",
        "with open('url.txt') as f:\n",
        "  lines = f.readlines()\n",
        "websocket_url = lines[0].split(\": \")[1].strip().replace(\"https\", \"wss\")\n",
        "# from nerfstudio.utils.io import load_from_json\n",
        "# from pathlib import Path\n",
        "# json_filename = \"nerfstudio/nerfstudio/viewer/app/package.json\"\n",
        "# version = load_from_json(Path(json_filename))[\"version\"]\n",
        "url = f\"https://viewer.nerf.studio/?websocket_url={websocket_url}\"\n",
        "print(url)\n",
        "print(\"You may need to click Refresh Page after you start training!\")\n",
        "from IPython import display\n",
        "display.IFrame(src=url, height=800, width=\"100%\")"
      ],
      "metadata": {
        "colab": {
          "base_uri": "https://localhost:8080/",
          "height": 926
        },
        "id": "Rw5OMBO9wwax",
        "outputId": "52fd608e-1450-4e38-c888-5f5fddc0accc"
      },
      "execution_count": 7,
      "outputs": [
        {
          "output_type": "stream",
          "name": "stdout",
          "text": [
            "/content\n",
            "\u001b[K\u001b[?25h/tools/node/bin/lt -> /tools/node/lib/node_modules/localtunnel/bin/lt.js\n",
            "\u001b[K\u001b[?25h+ localtunnel@2.0.2\n",
            "added 22 packages from 22 contributors in 1.391s\n",
            "https://viewer.nerf.studio/?websocket_url=wss://pretty-pillows-drum-34-143-206-78.loca.lt\n",
            "You may need to click Refresh Page after you start training!\n"
          ]
        },
        {
          "output_type": "execute_result",
          "data": {
            "text/plain": [
              "<IPython.lib.display.IFrame at 0x7ff8da3ed6d0>"
            ],
            "text/html": [
              "\n",
              "        <iframe\n",
              "            width=\"100%\"\n",
              "            height=\"800\"\n",
              "            src=\"https://viewer.nerf.studio/?websocket_url=wss://pretty-pillows-drum-34-143-206-78.loca.lt\"\n",
              "            frameborder=\"0\"\n",
              "            allowfullscreen\n",
              "        ></iframe>\n",
              "        "
            ]
          },
          "metadata": {},
          "execution_count": 7
        }
      ]
    },
    {
      "cell_type": "code",
      "source": [
        "#@markdown <h1>Start Training</h1>\n",
        "import os\n",
        "%cd /content\n",
        "if os.path.exists(f\"/content/bbbb/transforms.json\"):\n",
        "    !ns-train nerfacto --viewer.websocket-port 7007 --pipeline.model.predict-normals True nerfstudio-data --data /content/bbbb  --downscale-factor 4 \n",
        "else:\n",
        "    import IPython\n",
        "    display(IPython.display.HTML('<h3 style=\"color:red\">Error: Data processing did not complete</h3>'))\n",
        "    display(IPython.display.HTML('<h3>Please re-run `Downloading and Processing Data`, or view the FAQ for more info.</h3>'))"
      ],
      "metadata": {
        "cellView": "form",
        "id": "slIYT6JAw2r3"
      },
      "execution_count": null,
      "outputs": []
    },
    {
      "cell_type": "code",
      "source": [
        "!conda remove --force qt-main"
      ],
      "metadata": {
        "id": "Ks11re3MyQi7"
      },
      "execution_count": null,
      "outputs": []
    },
    {
      "cell_type": "code",
      "source": [
        "!ns-export tsdf --load-config outputs/-content-bbbb/nerfacto/2023-01-11_213814/config.yml --output-dir exports/mesh/ --target-num-faces 50000 --num-pixels-per-side 2048 --use-bounding-box False --bounding-box-min -1 -1 -1 --bounding-box-max 1 1 1\n",
        "\n"
      ],
      "metadata": {
        "id": "RH0j0R845ZJG"
      },
      "execution_count": null,
      "outputs": []
    },
    {
      "cell_type": "code",
      "source": [
        "!ns-export pointcloud --load-config outputs/-content-bbbb/nerfacto/2023-01-11_213814/config.yml --output-dir exports/pcd/ --num-points 1000000 --remove-outliers False --estimate-normals False --use-bounding-box False --bounding-box-min -1 -1 -1 --bounding-box-max 1 1 1\n",
        "\n"
      ],
      "metadata": {
        "id": "5H4SJ4yy94Re"
      },
      "execution_count": null,
      "outputs": []
    },
    {
      "cell_type": "code",
      "source": [
        "!ns-train nerfacto --viewer.start-train False --data /content/bbbb "
      ],
      "metadata": {
        "id": "x5A3xDgyDbly"
      },
      "execution_count": null,
      "outputs": []
    },
    {
      "cell_type": "code",
      "source": [
        "!ns-train nerfacto --vis viewer --viewer.websocket-port=7008\n"
      ],
      "metadata": {
        "id": "ClZw81dfEAyW"
      },
      "execution_count": null,
      "outputs": []
    },
    {
      "cell_type": "code",
      "source": [
        "!zip -r folder.zip /content/bbbb/colmap"
      ],
      "metadata": {
        "id": "MDX56tfWn9nc",
        "colab": {
          "base_uri": "https://localhost:8080/"
        },
        "outputId": "714c7c45-8b23-4a81-c5b5-dcf33fe31591"
      },
      "execution_count": 9,
      "outputs": [
        {
          "output_type": "stream",
          "name": "stdout",
          "text": [
            "  adding: content/bbbb/colmap/ (stored 0%)\n",
            "  adding: content/bbbb/colmap/database.db (deflated 37%)\n",
            "  adding: content/bbbb/colmap/sparse/ (stored 0%)\n",
            "  adding: content/bbbb/colmap/sparse/2/ (stored 0%)\n",
            "  adding: content/bbbb/colmap/sparse/2/points3D.bin (deflated 51%)\n",
            "  adding: content/bbbb/colmap/sparse/2/project.ini (deflated 63%)\n",
            "  adding: content/bbbb/colmap/sparse/2/cameras.bin (deflated 22%)\n",
            "  adding: content/bbbb/colmap/sparse/2/images.bin (deflated 64%)\n",
            "  adding: content/bbbb/colmap/sparse/3/ (stored 0%)\n",
            "  adding: content/bbbb/colmap/sparse/3/points3D.bin (deflated 21%)\n",
            "  adding: content/bbbb/colmap/sparse/3/project.ini (deflated 63%)\n",
            "  adding: content/bbbb/colmap/sparse/3/cameras.bin (deflated 22%)\n",
            "  adding: content/bbbb/colmap/sparse/3/images.bin (deflated 69%)\n",
            "  adding: content/bbbb/colmap/sparse/0/ (stored 0%)\n",
            "  adding: content/bbbb/colmap/sparse/0/points3D.bin (deflated 30%)\n",
            "  adding: content/bbbb/colmap/sparse/0/project.ini (deflated 63%)\n",
            "  adding: content/bbbb/colmap/sparse/0/cameras.bin (deflated 13%)\n",
            "  adding: content/bbbb/colmap/sparse/0/images.bin (deflated 69%)\n",
            "  adding: content/bbbb/colmap/sparse/4/ (stored 0%)\n",
            "  adding: content/bbbb/colmap/sparse/4/points3D.bin (deflated 46%)\n",
            "  adding: content/bbbb/colmap/sparse/4/project.ini (deflated 63%)\n",
            "  adding: content/bbbb/colmap/sparse/4/cameras.bin (deflated 22%)\n",
            "  adding: content/bbbb/colmap/sparse/4/images.bin (deflated 64%)\n",
            "  adding: content/bbbb/colmap/sparse/1/ (stored 0%)\n",
            "  adding: content/bbbb/colmap/sparse/1/points3D.bin (deflated 48%)\n",
            "  adding: content/bbbb/colmap/sparse/1/project.ini (deflated 63%)\n",
            "  adding: content/bbbb/colmap/sparse/1/cameras.bin (deflated 22%)\n",
            "  adding: content/bbbb/colmap/sparse/1/images.bin (deflated 69%)\n"
          ]
        }
      ]
    }
  ]
}