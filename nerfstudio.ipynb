{
  "nbformat": 4,
  "nbformat_minor": 0,
  "metadata": {
    "colab": {
      "provenance": [],
      "authorship_tag": "ABX9TyOkcBN9hWM3TeE71Y1deTDt",
      "include_colab_link": true
    },
    "kernelspec": {
      "name": "python3",
      "display_name": "Python 3"
    },
    "language_info": {
      "name": "python"
    },
    "accelerator": "GPU"
  },
  "cells": [
    {
      "cell_type": "markdown",
      "metadata": {
        "id": "view-in-github",
        "colab_type": "text"
      },
      "source": [
        "<a href=\"https://colab.research.google.com/github/1kaiser/nerfstudio_GoogleColab/blob/main/nerfstudio.ipynb\" target=\"_parent\"><img src=\"https://colab.research.google.com/assets/colab-badge.svg\" alt=\"Open In Colab\"/></a>"
      ]
    },
    {
      "cell_type": "code",
      "source": [
        "!python -m pip install -q condacolab\n",
        "import condacolab\n",
        "condacolab.install()"
      ],
      "metadata": {
        "id": "3tQC2V0J76i2"
      },
      "execution_count": null,
      "outputs": []
    },
    {
      "cell_type": "code",
      "execution_count": null,
      "metadata": {
        "id": "Zgkb5RBY7lUl"
      },
      "outputs": [],
      "source": [
        "!conda create --name nerfstudio -y python=3.11\n",
        "!conda activate nerfstudio\n",
        "!python -m pip install --upgrade pip"
      ]
    },
    {
      "cell_type": "code",
      "source": [
        "!python -m pip install torch==1.12.1+cu113 torchvision==0.13.1+cu113 -f https://download.pytorch.org/whl/torch_stable.html\n",
        "!python -m pip install git+https://github.com/NVlabs/tiny-cuda-nn/#subdirectory=bindings/torch"
      ],
      "metadata": {
        "id": "zlo7Ps3m8VIW"
      },
      "execution_count": null,
      "outputs": []
    },
    {
      "cell_type": "code",
      "source": [
        "!python -m pip install nerfstudio"
      ],
      "metadata": {
        "id": "eExUroEg8iCJ"
      },
      "execution_count": null,
      "outputs": []
    },
    {
      "cell_type": "code",
      "source": [
        "#@title download your own video >>> \n",
        "enter_link = \"https://video-downloads.googleusercontent.com/AEpB0oosvUYnsfPq335yTxfY28mlOSD3MnKeQMn_8NC_4ViaOb798doChJ1HvtGmo25e5lIGk8Gk__NVB08scyu4PU8xS-K5FMtGyibiJc-SfnqDZG7RXs0KUPfE3nqOCaKAgi068HezXlUBrFSunGTKRJ61atT2HYzxCH83Coed1Vf5lOP8Tho1vg7XQiruhHPN3RJdgyamEY1MXS5Zohrn7DEy7_27tUxYBDbFze5U0APc74Jqxy8ebjKj2wXqw-Nv5WtU0QbBdGwiukm5moxeUmK0-n4nlxSBIPQW5-H6wB5PdnOkcbXHwpdSNlNQCMVlqrFlAdu2NKizocXD8wJoPNekhVE_V3UcRAbQ66BD8iclxBHrpPDQgsu7BCb8ThJaMXmgVMBZ5rM4NqwAekbrptKNVWymuY8UexI7hn50OG5waeh8InnCunFoilFCB9H6B0W5Cc-LEexwBgKqKDczp6AcbYIGqQTURRvNWpUAoISD6f1ca8KCwCdwL2u3ypjvfZelI8DwOj4VPpqpyZJoyDnWUgQEWpQSqCn-UlX7EEp6zB1PO2UVDC57vE4kuy0kyQHHD0Awvs4QVxLtLoCCMBLxVd1tmMrL8yuvSjMOArtnrzHU3VxzgF7oM8vblIz2k5sCo49i73HsrBqPATS7gw0M5uSY300npmAobtjzWc6LBUmnBehG26zO_wNfT2opoGCDOrXIfWQ99X2A_OTzej8qBihFIoiBj9C-HWOPMM4FQpSDuTRzPvK9IIMu-1Pp3bj4iPCFxquMIBhp0b6ngrW-xM2vkaLJ1zqi0R6Luu9L36EJApJLVVaAikNnygH_1w-UrzQTZ3aheoGjUoPp6qnetbpKFP3TpDbYJic5wEiaOroVgtXb9-4sotLpnjDht2PUvX7ixGixLIjA5QR-MapJEu5m3hGgQt_4PDUYBO8pzVc07GTB5wSlvEdQ7cVDmyi4nJHefvT02MPHOL_7BwQhGsuI6WSbc__IYKiuRIaMCkajMzisq2hbbhjrR3r1s1_RPN3pr1qy4CzNwc7ZejV90S2P_zSgecNkNqiHMP50Uo4TeKO5aiXkJ-0o7Oxx-aLXLqW6GsIthF8wZ-EXAoGHO4QlsKfPgykHsSJb6jlozRbhbabGy2_UF-RHQQRr5htbWUfoV7YJKjg8i9jgp_D0KEsnfA?authuser=0\" #@param {type:\"string\"}\n",
        "!wget {enter_link} -O c.mp4"
      ],
      "metadata": {
        "id": "v3LFxTc69CQP",
        "cellView": "form"
      },
      "execution_count": null,
      "outputs": []
    },
    {
      "cell_type": "code",
      "source": [
        "!mkdir -p /content/bbbb"
      ],
      "metadata": {
        "id": "O9q3Wu7H-_yR"
      },
      "execution_count": null,
      "outputs": []
    },
    {
      "cell_type": "code",
      "source": [
        "!conda install -c conda-forge colmap"
      ],
      "metadata": {
        "id": "Nk765YzB_8P1"
      },
      "execution_count": null,
      "outputs": []
    },
    {
      "cell_type": "code",
      "source": [
        "!ns-process-data video --data /content/c.mp4 --output-dir /content/bbbb "
      ],
      "metadata": {
        "id": "-g89ei-V82Py"
      },
      "execution_count": null,
      "outputs": []
    },
    {
      "cell_type": "code",
      "source": [
        "!ns-train nerfacto --data /content/bbbb"
      ],
      "metadata": {
        "id": "x5A3xDgyDbly"
      },
      "execution_count": null,
      "outputs": []
    },
    {
      "cell_type": "code",
      "source": [
        "!ns-train nerfacto --vis viewer --viewer.websocket-port=7008\n"
      ],
      "metadata": {
        "id": "ClZw81dfEAyW"
      },
      "execution_count": null,
      "outputs": []
    }
  ]
}